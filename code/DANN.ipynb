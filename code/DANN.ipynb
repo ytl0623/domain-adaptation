{
 "cells": [
  {
   "attachments": {},
   "cell_type": "markdown",
   "metadata": {
    "id": "fo942LMOdlh4"
   },
   "source": [
    "**Import libraries**"
   ]
  },
  {
   "cell_type": "code",
   "execution_count": 1,
   "metadata": {
    "id": "DokFOdD1dJEl"
   },
   "outputs": [],
   "source": [
    "import sys\n",
    "import os\n",
    "import logging\n",
    "\n",
    "import torch\n",
    "import torch.nn as nn\n",
    "import torch.optim as optim\n",
    "from torch.utils.data import Subset, DataLoader\n",
    "from torch.backends import cudnn\n",
    "\n",
    "import torchvision\n",
    "from torchvision import transforms\n",
    "from torchvision.models import alexnet\n",
    "\n",
    "from PIL import Image\n",
    "from tqdm import tqdm\n",
    "\n",
    "from models.models import *\n",
    "from utils.utils import *\n",
    "\n",
    "import os\n",
    "from torch.utils.data import Dataset\n",
    "from pathlib import Path\n",
    "import csv\n",
    "from PIL import Image\n",
    "from torchvision import transforms\n",
    "from torch.utils.data import DataLoader\n",
    "import pandas as pd\n",
    "import numpy as np\n",
    "import cv2 as cv\n",
    "from natsort import natsorted\n",
    "import random\n",
    "import torch\n",
    "\n",
    "import torch.nn as nn\n",
    "import time\n",
    "import copy\n",
    "from torch.autograd import Variable\n",
    "import torchvision.models as models\n",
    "import albumentations as Album\n",
    "from tqdm import tqdm"
   ]
  },
  {
   "attachments": {},
   "cell_type": "markdown",
   "metadata": {
    "id": "OIDLJuIXK_vh"
   },
   "source": [
    "**Set Arguments**"
   ]
  },
  {
   "cell_type": "code",
   "execution_count": 2,
   "metadata": {
    "id": "d5PkYfqfK_SA"
   },
   "outputs": [],
   "source": [
    "DEVICE = 'cuda:1'      # 'cuda' or 'cpu'\n",
    "\n",
    "NUM_CLASSES = 2      # 7 classes for each domain: '0', '1'\n",
    "DATASETS_NAMES = ['ADC', 'DWI']\n",
    "CLASSES_NAMES = ['0', '1']\n",
    "\n",
    "# HYPERPARAMETER -------------------\n",
    "MOMENTUM = 0.9       # Hyperparameter for SGD, keep this at 0.9 when using SGD\n",
    "WEIGHT_DECAY = 5e-5  # Regularization, you can keep this at the default\n",
    "GAMMA = 0.1          # Multiplicative factor for learning rate step-down\n",
    "LOG_FREQUENCY = 5\n",
    "# ----------------------------------\n",
    "\n",
    "# Hyperparameters for grid search\n",
    "BATCH_SIZE = 128      # Higher batch sizes allows for larger learning rates. An empirical heuristic suggests that, when changing\n",
    "                      # the batch size, learning rate should change by the same factor to have comparable results\n",
    "LR = 1e-3             # The initial Learning Rate\n",
    "NUM_EPOCHS = 30       # Total number of training epochs (iterations over dataset)\n",
    "STEP_SIZE = 20        # How many epochs before decreasing learning rate (if using a step-down policy)\n",
    "MODE = '3B'           # '3A', '3B', '4A', '4C'\n",
    "ALPHA = 0.1            # alpha\n",
    "ALPHA_EXP = False\n",
    "\n",
    "EVAL_ACCURACY_ON_TRAINING = False\n",
    "SHOW_IMG = False       # if 'True' show images and graphs on output\n",
    "SHOW_RESULTS = False   # if 'True' show images and graphs on output"
   ]
  },
  {
   "attachments": {},
   "cell_type": "markdown",
   "metadata": {
    "id": "9gwii0TBHvzh"
   },
   "source": [
    "**Define Data Preprocessing**"
   ]
  },
  {
   "cell_type": "code",
   "execution_count": 3,
   "metadata": {
    "id": "QUDdw4j2H0Mc"
   },
   "outputs": [],
   "source": [
    "# means and standard deviations ImageNet because the network is pretrained\n",
    "# means, stds = (0.485, 0.456, 0.406), (0.229, 0.224, 0.225)\n",
    "\n",
    "# # Define transforms to apply to each image\n",
    "# transf = transforms.Compose([ transforms.Resize(224),      # Resizes short size of the PIL image to 256\n",
    "#                               #transforms.CenterCrop(224),  # Crops a central square patch of the image 224 because torchvision's AlexNet needs a 224x224 input!\n",
    "#                               transforms.ToTensor(), # Turn PIL Image to torch.Tensor\n",
    "#                               transforms.Normalize(means,stds) # Normalizes tensor with mean and standard deviation\n",
    "# ])\n",
    "\n",
    "transf = Album.Compose([\n",
    "  Album.Resize(224,224),\n",
    "  Album.Normalize(mean=0,std=1)\n",
    "])\n"
   ]
  },
  {
   "attachments": {},
   "cell_type": "markdown",
   "metadata": {
    "id": "2qYIHPzYLY7i"
   },
   "source": [
    "**Prepare Dataset**"
   ]
  },
  {
   "cell_type": "code",
   "execution_count": 16,
   "metadata": {
    "id": "lj3Nx1WjPyFB"
   },
   "outputs": [],
   "source": [
    "class IMAGE_Dataset(Dataset):\n",
    "    def __init__(self,root_dir, label_root, transfrom = None):\n",
    "        self.root_dir = Path(root_dir)\n",
    "        self.labels = []\n",
    "        self.transfrom = transfrom\n",
    "        self.label_root = Path(label_root)\n",
    "        self.patient = []\n",
    "        \n",
    "        patient_path = natsorted(os.listdir(root_dir))\n",
    "        for i in patient_path:\n",
    "          self.patient.append(os.path.join(root_dir,i))\n",
    "        #print(len(self.patient))\n",
    "\n",
    "        label_df = pd.read_csv(label_root, encoding= 'unicode_escape')\n",
    "        for j in range(len(self.patient)):\n",
    "            label_df1 = np.array(label_df.poor_3m[label_df[\"PseudoNo\"] == int(patient_path[j])])\n",
    "            for i in range(len(label_df1)):\n",
    "                self.labels.append(label_df1[i])\n",
    "        #print(len(self.labels))     \n",
    "\n",
    "    def __len__(self):\n",
    "        return len(self.patient)\n",
    "\n",
    "    def __getitem__(self, index):\n",
    "        patients = natsorted(os.listdir(self.patient[index]))\n",
    "        start = int((len(patients)-18)/2)\n",
    "        img_first = cv.imread(os.path.join(self.root_dir,self.patient[index],patients[start]))\n",
    "        img_first = cv.cvtColor(img_first,cv.COLOR_BGR2GRAY)\n",
    "        if self.transfrom is not None:\n",
    "            img_first = self.transfrom(image = img_first)[\"image\"]\n",
    "        img_first = np.array(img_first)\n",
    "        img_first = torch.from_numpy(img_first)\n",
    "        img_first = img_first.float().div(255)\n",
    "        img_first = img_first.unsqueeze(0)\n",
    "        \n",
    "        for i in range(start+1,start+18):\n",
    "          img1 = cv.imread(os.path.join(self.root_dir,self.patient[index],patients[i]))\n",
    "          img1 = cv.cvtColor(img1,cv.COLOR_BGR2GRAY)\n",
    "          if self.transfrom is not None:\n",
    "            img1 = self.transfrom(image = img1)[\"image\"]\n",
    "          img1 = np.array(img1)\n",
    "          img1 = torch.from_numpy(img1)\n",
    "          img1 = img1.float().div(255)\n",
    "          img1 = img1.unsqueeze(0)\n",
    "          img_first = torch.cat((img_first,img1),0)\n",
    "\n",
    "        label = self.labels[index]\n",
    "\n",
    "        return img_first, label"
   ]
  },
  {
   "cell_type": "code",
   "execution_count": 5,
   "metadata": {
    "colab": {
     "base_uri": "https://localhost:8080/",
     "height": 198
    },
    "id": "QfVq_uDHLbsR",
    "outputId": "6df473bb-099f-40f4-9673-99e34fd2275e"
   },
   "outputs": [
    {
     "name": "stdout",
     "output_type": "stream",
     "text": [
      "ADC Dataset: 1977\n",
      "DWI Dataset: 660\n"
     ]
    }
   ],
   "source": [
    "# Define datasets root\n",
    "#DIR_PHOTO = 'Homework3-PACS/PACS/photo'\n",
    "# DIR_ADC = 'Homework3-PACS/ADC_DWI/ADC'\n",
    "# DIR_DWI = 'Homework3-PACS/ADC_DWI/DWI'\n",
    "\n",
    "# # Prepare Pytorch train/test Datasets\n",
    "# #photo_dataset = torchvision.datasets.ImageFolder(DIR_PHOTO, transform=transf)\n",
    "# ADC_dataset = torchvision.datasets.ImageFolder(DIR_ADC, transform=transf)\n",
    "# DWI_dataset = torchvision.datasets.ImageFolder(DIR_DWI, transform=transf)\n",
    "\n",
    "\n",
    "Train_Root = \"/home/ytl0623/data/MI_proj3/data/DWI_PNG_train_bias/\"\n",
    "Val_Root = \"/home/ytl0623/data/MI_proj3/data/ADC_PNG_val_bias/\"\n",
    "\n",
    "Train_Label_Root = \"/home/ytl0623/data/MI_proj3/data/train_data.csv\"\n",
    "Val_Label_Root = '/home/ytl0623/data/MI_proj3/data/val_data.csv'\n",
    "\n",
    "ADC_dataset = IMAGE_Dataset(Path(Train_Root), Path(Train_Label_Root), transf)\n",
    "\n",
    "DWI_dataset = IMAGE_Dataset(Path(Val_Root), Path(Val_Label_Root), transf)\n",
    "\n",
    "# # Check dataset sizes\n",
    "# #print(f\"Photo Dataset: {len(photo_dataset)}\")\n",
    "print(f\"ADC Dataset: {len(ADC_dataset)}\")\n",
    "print(f\"DWI Dataset: {len(DWI_dataset)}\")\n",
    "\n",
    "\n",
    "\n"
   ]
  },
  {
   "attachments": {},
   "cell_type": "markdown",
   "metadata": {
    "id": "FYEDQ7Z21ldN"
   },
   "source": [
    "**Prepare Dataloaders**"
   ]
  },
  {
   "cell_type": "code",
   "execution_count": 6,
   "metadata": {
    "id": "VriRw8SI1nle"
   },
   "outputs": [],
   "source": [
    "# Dataloaders iterate over pytorch datasets and transparently provide useful functions (e.g. parallelization and shuffling)\n",
    "#photo_dataloader = DataLoader(photo_dataset, batch_size=BATCH_SIZE, shuffle=True, num_workers=4, drop_last=True)\n",
    "# ADC_dataloader = DataLoader(ADC_dataset, batch_size=BATCH_SIZE, shuffle=True, num_workers=4, drop_last=True)\n",
    "# DWI_dataloader = DataLoader(DWI_dataset, batch_size=BATCH_SIZE, shuffle=True, num_workers=4, drop_last=True)\n",
    "\n",
    "ADC_dataloader = DataLoader(dataset=ADC_dataset, batch_size=BATCH_SIZE, shuffle=True, num_workers=4, drop_last=True)\n",
    "\n",
    "DWI_dataloader = DataLoader(dataset=DWI_dataset, batch_size=BATCH_SIZE, shuffle=True, num_workers=4, drop_last=True)\n",
    "\n",
    "\n"
   ]
  },
  {
   "attachments": {},
   "cell_type": "markdown",
   "metadata": {
    "id": "KEyL3H_R4qCf"
   },
   "source": [
    "**Prepare Network for training**"
   ]
  },
  {
   "cell_type": "code",
   "execution_count": 14,
   "metadata": {
    "id": "exHUjtXa22DN"
   },
   "outputs": [
    {
     "name": "stdout",
     "output_type": "stream",
     "text": [
      "DANN_AlexNet(\n",
      "  (features): Sequential(\n",
      "    (0): Conv2d(3, 64, kernel_size=(11, 11), stride=(4, 4), padding=(2, 2))\n",
      "    (1): ReLU(inplace=True)\n",
      "    (2): MaxPool2d(kernel_size=3, stride=2, padding=0, dilation=1, ceil_mode=False)\n",
      "    (3): Conv2d(64, 192, kernel_size=(5, 5), stride=(1, 1), padding=(2, 2))\n",
      "    (4): ReLU(inplace=True)\n",
      "    (5): MaxPool2d(kernel_size=3, stride=2, padding=0, dilation=1, ceil_mode=False)\n",
      "    (6): Conv2d(192, 384, kernel_size=(3, 3), stride=(1, 1), padding=(1, 1))\n",
      "    (7): ReLU(inplace=True)\n",
      "    (8): Conv2d(384, 256, kernel_size=(3, 3), stride=(1, 1), padding=(1, 1))\n",
      "    (9): ReLU(inplace=True)\n",
      "    (10): Conv2d(256, 256, kernel_size=(3, 3), stride=(1, 1), padding=(1, 1))\n",
      "    (11): ReLU(inplace=True)\n",
      "    (12): MaxPool2d(kernel_size=3, stride=2, padding=0, dilation=1, ceil_mode=False)\n",
      "  )\n",
      "  (classifier): Sequential(\n",
      "    (0): Dropout(p=0.5, inplace=False)\n",
      "    (1): Linear(in_features=9216, out_features=4096, bias=True)\n",
      "    (2): ReLU(inplace=True)\n",
      "    (3): Dropout(p=0.5, inplace=False)\n",
      "    (4): Linear(in_features=4096, out_features=4096, bias=True)\n",
      "    (5): ReLU(inplace=True)\n",
      "    (6): Linear(in_features=4096, out_features=7, bias=True)\n",
      "  )\n",
      "  (GD): Sequential(\n",
      "    (0): Dropout(p=0.5, inplace=False)\n",
      "    (1): Linear(in_features=9216, out_features=4096, bias=True)\n",
      "    (2): ReLU(inplace=True)\n",
      "    (3): Dropout(p=0.5, inplace=False)\n",
      "    (4): Linear(in_features=4096, out_features=4096, bias=True)\n",
      "    (5): ReLU(inplace=True)\n",
      "    (6): Linear(in_features=4096, out_features=2, bias=True)\n",
      "  )\n",
      "  (conv1): Conv2d(18, 64, kernel_size=(7, 7), stride=(2, 2), padding=(3, 3), bias=False)\n",
      "  (fc): Linear(in_features=2048, out_features=2, bias=True)\n",
      ")\n"
     ]
    }
   ],
   "source": [
    "cudnn.benchmark # Calling this optimizes runtime\n",
    "\n",
    "if MODE == None :\n",
    "  raise RuntimeError(\"Select a MODE\")\n",
    "elif MODE == '3A':  \n",
    "  # 3A) SENZA DANN\t\n",
    "  USE_DOMAIN_ADAPTATION = False\n",
    "  CROSS_DOMAIN_VALIDATION = False \n",
    "  USE_VALIDATION = False\n",
    "  ALPHA = None\n",
    "  transfer_set = None\n",
    "elif MODE == '3B' : \n",
    "  # 3B) Train DANN on Photo and test on Art painting with DANN adaptation\n",
    "  USE_DOMAIN_ADAPTATION = True \n",
    "  USE_VALIDATION = False\n",
    "  transfer_set = \"art painting\"\n",
    "elif MODE == '4A':\n",
    "  # 4A) Run a grid search on Photo to Cartoon and Photo to Sketch, without Domain Adaptation, and average results for each set of hyperparameters\n",
    "  transfer_set = 'sketch' # Photo to 'cartoon' or 'sketch'\n",
    "  USE_VALIDATION = True   # validation on transfer_set\n",
    "  USE_DOMAIN_ADAPTATION = False\n",
    "  CROSS_DOMAIN_VALIDATION = False \n",
    "  ALPHA = None\n",
    "  # 4B) when testing\n",
    "elif MODE == '4C':\n",
    "  # 4C) Run a grid search on Photo to Cartoon and Photo to Sketch, with Domain Adaptation, and average results for each set of hyperparameters\n",
    "  USE_VALIDATION = True   # validation on transfer_set\n",
    "  USE_DOMAIN_ADAPTATION = True\n",
    "  CROSS_DOMAIN_VALIDATION = True \n",
    "  # edit the following hyperparams:\n",
    "  transfer_set = 'ADC' # Photo to 'cartoon' or 'sketch'\n",
    "\n",
    "\n",
    "EVAL_ACCURACY_ON_TRAINING = False\n",
    "SHOW_RESULTS = True\n",
    "\n",
    "source_dataloader = DWI_dataloader\n",
    "test_dataloader = ADC_dataloader\n",
    "\n",
    "# Loading model \n",
    "net = dann_net(pretrained=True).to(DEVICE)\n",
    "net.conv1=nn.Conv2d(18, 64, kernel_size=(7, 7), stride=(2, 2), padding=(3, 3), bias=False)\n",
    "net.fc=nn.Linear(in_features=2048, out_features=2, bias=True)\n",
    "print(net) #check size output layer OK\n",
    "\n",
    "# Define loss function: CrossEntrpy for classification\n",
    "criterion = nn.CrossEntropyLoss()\n",
    "\n",
    "# Choose parameters to optimize\n",
    "parameters_to_optimize = net.parameters() # In this case we optimize over all the parameters of AlexNet\n",
    "\n",
    "# Define optimizer: updates the weights based on loss (SDG with momentum)\n",
    "optimizer = optim.SGD(parameters_to_optimize, lr=LR, momentum=MOMENTUM, weight_decay=WEIGHT_DECAY)\n",
    "\n",
    "# Define scheduler -> step-down policy which multiplies learning rate by gamma every STEP_SIZE epochs\n",
    "scheduler = optim.lr_scheduler.StepLR(optimizer, step_size=STEP_SIZE, gamma=GAMMA)\n",
    "\n",
    "if USE_DOMAIN_ADAPTATION and ALPHA == None :\n",
    "  raise RuntimeError(\"To use domain adaptation you must define parameter ALPHA\")\n",
    "\n",
    "target_dataloader = ADC_dataloader\n",
    "\n",
    "if ALPHA_EXP : \n",
    "  # ALPHA exponential decaying as described in the paper\n",
    "  p = float(i + epoch * len_dataloader) / n_epoch / len_dataloader\n",
    "  ALPHA = 2. / (1. + np.exp(-10 * p)) - 1"
   ]
  },
  {
   "attachments": {},
   "cell_type": "markdown",
   "metadata": {
    "id": "AxYUli9d9uYQ"
   },
   "source": [
    "**Train**"
   ]
  },
  {
   "cell_type": "code",
   "execution_count": 17,
   "metadata": {
    "colab": {
     "base_uri": "https://localhost:8080/",
     "height": 1000
    },
    "id": "ZcoQ5fD49yT_",
    "outputId": "ca43aa66-f154-4eb0-e45a-8cafd77963c2"
   },
   "outputs": [
    {
     "name": "stdout",
     "output_type": "stream",
     "text": [
      "--- Epoch 1/30, LR = [0.001]\n",
      "--- Epoch 2/30, LR = [0.001]\n",
      "--- Epoch 3/30, LR = [0.001]\n",
      "--- Epoch 4/30, LR = [0.001]\n",
      "--- Epoch 5/30, LR = [0.001]\n",
      "--- Epoch 6/30, LR = [0.001]\n",
      "--- Epoch 7/30, LR = [0.001]\n",
      "--- Epoch 8/30, LR = [0.001]\n",
      "--- Epoch 9/30, LR = [0.001]\n",
      "--- Epoch 10/30, LR = [0.001]\n",
      "--- Epoch 11/30, LR = [0.001]\n",
      "--- Epoch 12/30, LR = [0.001]\n",
      "--- Epoch 13/30, LR = [0.001]\n",
      "--- Epoch 14/30, LR = [0.001]\n",
      "--- Epoch 15/30, LR = [0.001]\n",
      "--- Epoch 16/30, LR = [0.001]\n",
      "--- Epoch 17/30, LR = [0.001]\n",
      "--- Epoch 18/30, LR = [0.001]\n",
      "--- Epoch 19/30, LR = [0.001]\n",
      "--- Epoch 20/30, LR = [0.0001]\n",
      "--- Epoch 21/30, LR = [0.0001]\n",
      "--- Epoch 22/30, LR = [0.0001]\n",
      "--- Epoch 23/30, LR = [0.0001]\n",
      "--- Epoch 24/30, LR = [0.0001]\n",
      "--- Epoch 25/30, LR = [0.0001]\n",
      "--- Epoch 26/30, LR = [0.0001]\n",
      "--- Epoch 27/30, LR = [0.0001]\n",
      "--- Epoch 28/30, LR = [0.0001]\n",
      "--- Epoch 29/30, LR = [0.0001]\n",
      "--- Epoch 30/30, LR = [0.0001]\n",
      "\n",
      "Loss classifier\n",
      "[0.7043197751045227, 0.697163999080658, 0.6870803833007812, 0.6986211538314819, 0.6924997568130493, 0.7203940153121948, 0.7008370757102966, 0.7091422080993652, 0.6891777515411377, 0.7004891633987427, 0.7198164463043213, 0.6873677968978882, 0.7479130029678345, 0.6880426406860352, 0.7054026126861572, 0.7190559506416321, 0.6686357855796814, 0.7130136489868164, 0.7351968288421631, 0.7054898738861084, 0.7053110599517822, 0.7099555134773254, 0.7314614653587341, 0.6920705437660217, 0.6900455355644226, 0.6819648742675781, 0.7044947147369385, 0.7164617776870728, 0.7165887951850891, 0.7087519764900208, 0.7239619493484497, 0.7530972361564636, 0.6960622668266296, 0.711607813835144, 0.7184485197067261, 0.7184772491455078, 0.7276298999786377, 0.6763942241668701, 0.7261948585510254, 0.6899355053901672, 0.700993537902832, 0.6683210134506226, 0.7365249991416931, 0.700295627117157, 0.734818696975708, 0.7169145345687866, 0.6990330219268799, 0.7269566655158997, 0.7420724034309387, 0.7053016424179077, 0.7155531048774719, 0.7039046883583069, 0.7012507319450378, 0.6890082359313965, 0.6966114044189453, 0.6795969009399414, 0.730433464050293, 0.6850031614303589, 0.7189911603927612, 0.7090309262275696, 0.68646240234375, 0.7152068018913269, 0.7355456948280334, 0.7138466238975525, 0.6920557618141174, 0.7074003219604492, 0.7386662364006042, 0.7192714214324951, 0.7343403697013855, 0.6912103891372681, 0.7111347317695618, 0.6877750158309937, 0.6953988075256348, 0.693539559841156, 0.7125670313835144, 0.6993077993392944, 0.6898520588874817, 0.682746946811676, 0.7154346704483032, 0.6788190007209778, 0.6958418488502502, 0.6496213674545288, 0.6968708634376526, 0.6946216225624084, 0.7442753911018372, 0.6881094574928284, 0.6955171823501587, 0.7495295405387878, 0.7439849376678467, 0.7063989639282227, 0.7157161235809326, 0.6947919726371765, 0.7028165459632874, 0.7456823587417603, 0.6888821125030518, 0.7063459753990173, 0.6842769384384155, 0.695597231388092, 0.6946951746940613, 0.687174916267395, 0.69377201795578, 0.6843754053115845, 0.689894437789917, 0.6906002759933472, 0.70025235414505, 0.6958159804344177, 0.6949265003204346, 0.6937286257743835, 0.690003514289856, 0.6982633471488953, 0.7017199397087097, 0.6962252855300903, 0.6939526796340942, 0.6912140846252441, 0.7019950747489929, 0.6898196935653687, 0.6982787847518921, 0.695421040058136, 0.6871779561042786, 0.6843156814575195, 0.6884832382202148, 0.6951133608818054, 0.6793084740638733, 0.7016285061836243, 0.6893225312232971, 0.6849627494812012, 0.6972887516021729, 0.6947061419487, 0.703726589679718, 0.6828103065490723, 0.6935678124427795, 0.6937385201454163, 0.6718151569366455, 0.7089226245880127, 0.6831983327865601, 0.6973862051963806, 0.6952832937240601, 0.6847769021987915, 0.6878189444541931, 0.7006931900978088, 0.6865379810333252, 0.6949647665023804, 0.699450671672821, 0.6911575198173523, 0.6866952776908875, 0.6969473958015442, 0.6847237944602966, 0.695033609867096, 0.6975860595703125, 0.6811452507972717]\n",
      "\n",
      "Loss discriminator source\n",
      "[0.5439783930778503, 0.5813009142875671, 0.8788747787475586, 0.7665356397628784, 0.49002429842948914, 0.7351387143135071, 0.9091501832008362, 0.5842235088348389, 0.5978689193725586, 0.9170172810554504, 0.6904966235160828, 0.5469484925270081, 0.852701723575592, 0.7762601971626282, 0.5518949031829834, 0.7339692115783691, 0.8132814764976501, 0.636939287185669, 0.6643533706665039, 0.7880688905715942, 0.6477872729301453, 0.6096591353416443, 0.8369183540344238, 0.6767555475234985, 0.6288355588912964, 0.7253155708312988, 0.7964193224906921, 0.6281052827835083, 0.6520736217498779, 0.8247113227844238, 0.7016907334327698, 0.5953176021575928, 0.7141623497009277, 0.795079231262207, 0.6544233560562134, 0.6458414793014526, 0.7143468856811523, 0.7660605907440186, 0.6786430478096008, 0.6501045823097229, 0.7157040238380432, 0.7493484616279602, 0.7002663016319275, 0.6267885565757751, 0.7106896042823792, 0.7195634245872498, 0.7334005832672119, 0.6776490807533264, 0.6707075238227844, 0.7038944959640503, 0.7130481004714966, 0.7040113210678101, 0.6997894644737244, 0.6886226534843445, 0.6704679131507874, 0.7079522609710693, 0.701325535774231, 0.6918497681617737, 0.6749389171600342, 0.6753116846084595, 0.7041506767272949, 0.7209647297859192, 0.687533438205719, 0.6725378036499023, 0.6700112819671631, 0.7029111385345459, 0.7131873965263367, 0.7098971605300903, 0.6811422109603882, 0.6843400001525879, 0.6909314393997192, 0.694521427154541, 0.6809757947921753, 0.6985142230987549, 0.709503173828125, 0.7048903107643127, 0.6934620141983032, 0.6875657439231873, 0.7089208364486694, 0.7019081711769104, 0.7030162215232849, 0.6963175535202026, 0.6826533675193787, 0.68050217628479, 0.6985211372375488, 0.7121403813362122, 0.7071191668510437, 0.6995675563812256, 0.6890068650245667, 0.6823757886886597, 0.6933528780937195, 0.6907505393028259, 0.6982688903808594, 0.7037443518638611, 0.7022431492805481, 0.6971107721328735, 0.7018262147903442, 0.7014797329902649, 0.7000100612640381, 0.6900824308395386, 0.6944096088409424, 0.6922593712806702, 0.6938854455947876, 0.6911539435386658, 0.6905176639556885, 0.691489577293396, 0.694977879524231, 0.690427303314209, 0.6882002949714661, 0.6831263899803162, 0.6944408416748047, 0.7009188532829285, 0.6869233846664429, 0.6930505633354187, 0.6917718052864075, 0.6863573789596558, 0.6954900026321411, 0.685930073261261, 0.6936463117599487, 0.6981806755065918, 0.701481819152832, 0.6979161500930786, 0.6997556686401367, 0.6943819522857666, 0.70063316822052, 0.6976315379142761, 0.6984239220619202, 0.6978292465209961, 0.6917963624000549, 0.6947593092918396, 0.6918095350265503, 0.6987190842628479, 0.6923624873161316, 0.6971120238304138, 0.6978580951690674, 0.6963632106781006, 0.6829466223716736, 0.7006545066833496, 0.6996038556098938, 0.6998720765113831, 0.6969738006591797, 0.7043755054473877, 0.6999858617782593, 0.6907876133918762, 0.6936094760894775, 0.6949353218078613, 0.6985815763473511, 0.6925411820411682, 0.6933817267417908, 0.6900774240493774]\n",
      "\n",
      "Loss discriminator target\n",
      "[0.8827629089355469, 0.7921438813209534, 0.5494837760925293, 0.6134560108184814, 0.9470642805099487, 0.6992791295051575, 0.5282473564147949, 0.8479794263839722, 0.8168341517448425, 0.5093728303909302, 0.7173752784729004, 0.88503497838974, 0.5673859715461731, 0.6397955417633057, 0.860614001750946, 0.6545479893684387, 0.5910657048225403, 0.7905821204185486, 0.7340779900550842, 0.590801477432251, 0.7538824081420898, 0.7649245262145996, 0.5702260136604309, 0.7155689597129822, 0.7945032119750977, 0.67528235912323, 0.6296308636665344, 0.785168468952179, 0.7453804612159729, 0.5918015837669373, 0.7032451033592224, 0.8231630921363831, 0.6659146547317505, 0.6135550141334534, 0.7328459620475769, 0.7568778991699219, 0.6829109191894531, 0.6345726847648621, 0.7185654640197754, 0.7656403183937073, 0.6937546730041504, 0.649035632610321, 0.6838331818580627, 0.7693285942077637, 0.6907615065574646, 0.667614758014679, 0.6785653829574585, 0.7196074724197388, 0.7302998900413513, 0.7044135332107544, 0.7041138410568237, 0.6805780529975891, 0.6935795545578003, 0.7004051804542542, 0.707756519317627, 0.6830915212631226, 0.7046269178390503, 0.6973859071731567, 0.7162671685218811, 0.7197679281234741, 0.6859523057937622, 0.670513391494751, 0.6950869560241699, 0.7212746739387512, 0.7130866646766663, 0.6913495659828186, 0.6713733077049255, 0.688363790512085, 0.6875326037406921, 0.7076415419578552, 0.7013126015663147, 0.6874829530715942, 0.7029545307159424, 0.6826450228691101, 0.6824827790260315, 0.6783090829849243, 0.7070090174674988, 0.70505291223526, 0.6824154257774353, 0.683906078338623, 0.6914793848991394, 0.6988798379898071, 0.7111130952835083, 0.7055806517601013, 0.693354070186615, 0.6872822642326355, 0.677830696105957, 0.680894672870636, 0.6999527215957642, 0.7007452845573425, 0.7002102732658386, 0.6857235431671143, 0.7019966244697571, 0.6851382255554199, 0.6838707327842712, 0.6863481402397156, 0.6974586844444275, 0.6861906051635742, 0.7005500793457031, 0.6969864368438721, 0.6921311020851135, 0.697017252445221, 0.694561243057251, 0.6995828151702881, 0.696385383605957, 0.6872504353523254, 0.69522625207901, 0.6893761157989502, 0.6971573233604431, 0.6949109435081482, 0.6899351477622986, 0.6970051527023315, 0.6905632019042969, 0.6976375579833984, 0.6936324238777161, 0.6925917863845825, 0.6898703575134277, 0.6991828083992004, 0.6985077261924744, 0.6887924075126648, 0.690203070640564, 0.6879003047943115, 0.6883418560028076, 0.690837025642395, 0.7012282609939575, 0.6926074028015137, 0.698674201965332, 0.6923778057098389, 0.6941441893577576, 0.6958588361740112, 0.6978172063827515, 0.6931658983230591, 0.6928256154060364, 0.688576877117157, 0.6882791519165039, 0.6938517689704895, 0.7048500776290894, 0.6955365538597107, 0.6895632147789001, 0.6947835683822632, 0.6863035559654236, 0.6913926601409912, 0.6943201422691345, 0.6946040391921997, 0.6891583800315857, 0.6992326378822327, 0.6948918104171753, 0.6935346722602844, 0.6939243078231812, 0.6955240964889526]\n"
     ]
    }
   ],
   "source": [
    "current_step = 0\n",
    "accuracies_train = []\n",
    "accuracies_validation = []\n",
    "loss_class_list = []\n",
    "loss_target_list = []\n",
    "loss_source_list = []\n",
    "\n",
    "# Start iterating over the epochs\n",
    "for epoch in range(NUM_EPOCHS):\n",
    "  \n",
    "  net.train(True)\n",
    "\n",
    "  print(f\"--- Epoch {epoch+1}/{NUM_EPOCHS}, LR = {scheduler.get_last_lr()}\")\n",
    "  \n",
    "  # Iterate over the dataset\n",
    "  for source_images, source_labels in source_dataloader:\n",
    "    source_images = source_images.to(DEVICE)\n",
    "    source_labels = source_labels.to(DEVICE)    \n",
    "\n",
    "    optimizer.zero_grad() # Zero-ing the gradients\n",
    "    \n",
    "    # STEP 1: train the classifier\n",
    "    outputs = net(source_images)          \n",
    "    loss_class = criterion(outputs, source_labels)  \n",
    "    loss_class_list.append(loss_class.item())\n",
    "\n",
    "    # if current_step % LOG_FREQUENCY == 0:\n",
    "    #   print('Step {}, Loss Classifier {}'.format(current_step+1, loss_class.item()))                \n",
    "    loss_class.backward()  # backward pass: computes gradients\n",
    "\n",
    "    # Domain Adaptation (Cross Domain Validation)\n",
    "    if USE_DOMAIN_ADAPTATION :\n",
    "\n",
    "      # Load target batch\n",
    "      target_images, target_labels = next(iter(target_dataloader))\n",
    "      target_images = target_images.to(DEVICE)\n",
    "\n",
    "      # if ALPHA_EXP : \n",
    "      #   # ALPHA exponential decaying as described in the paper\n",
    "      #   p = float(i + epoch * len_dataloader) / NUM_EPOCHS / len_dataloader\n",
    "      #   ALPHA = 2. / (1. + np.exp(-10 * p)) - 1\n",
    "\n",
    "      # STEP 2: train the discriminator: forward SOURCE data to Gd          \n",
    "      outputs = net.forward(source_images, alpha=ALPHA)\n",
    "    \n",
    "      # source's label is 0 for all data    \n",
    "      labels_discr_source = torch.zeros(BATCH_SIZE, dtype=torch.int64).to(DEVICE)\n",
    "      loss_discr_source = criterion(outputs, labels_discr_source)  \n",
    "      loss_source_list.append(loss_discr_source.item())\n",
    "    \n",
    "      # if current_step % LOG_FREQUENCY == 0:\n",
    "      #   print('Step {}, Loss Discriminator Source {}'.format(current_step+1, loss_discr_source.item()))\n",
    "      loss_discr_source.backward()\n",
    "\n",
    "      # STEP 3: train the discriminator: forward TARGET to Gd          \n",
    "      outputs = net.forward(target_images, alpha=ALPHA)           \n",
    "      labels_discr_target = torch.ones(BATCH_SIZE, dtype=torch.int64).to(DEVICE) # target's label is 1\n",
    "      loss_discr_target = criterion(outputs, labels_discr_target)    \n",
    "      loss_target_list.append(loss_discr_target.item())\n",
    "    \n",
    "      # if current_step % LOG_FREQUENCY == 0:\n",
    "        # print('Step {}, Loss Discriminator Target {}'.format(current_step+1, loss_discr_target.item()))\n",
    "      loss_discr_target.backward()    #update gradients \n",
    "\n",
    "    optimizer.step() # update weights based on accumulated gradients          \n",
    "    \n",
    "  # --- Accuracy on training\n",
    "  if EVAL_ACCURACY_ON_TRAINING:\n",
    "    with torch.no_grad():\n",
    "      net.train(False)\n",
    "\n",
    "      running_corrects_train = 0\n",
    "\n",
    "      for images_train, labels_train in source_dataloader:\n",
    "        # images, labels = next(iter(source_dataloader))\n",
    "        images_train = images_train.to(DEVICE)\n",
    "        labels_train = labels_train.to(DEVICE)\n",
    "\n",
    "        # Forward Pass\n",
    "        outputs_train = net(images_train)\n",
    "\n",
    "        # Get predictions\n",
    "        _, preds = torch.max(outputs_train.data, 1)\n",
    "\n",
    "        # Update Corrects\n",
    "        running_corrects_train += torch.sum(preds == labels_train.data).data.item()\n",
    "\n",
    "    # Calculate Accuracy\n",
    "    accuracy_train = running_corrects_train / float(len(source_dataloader)*(target_dataloader.batch_size))\n",
    "    accuracies_train.append(accuracy_train)\n",
    "    print('Accuracy on train (photo):', accuracy_train)\n",
    "    \n",
    "  # --- VALIDATION SET\n",
    "  if USE_VALIDATION : \n",
    "    # now train is finished, evaluate the model on the target dataset \n",
    "    net.train(False) # Set Network to evaluation mode\n",
    "      \n",
    "    running_corrects = 0\n",
    "    for images, labels in target_dataloader:\n",
    "      images = images.to(DEVICE)\n",
    "      labels = labels.to(DEVICE)\n",
    "      \n",
    "      outputs = net(images)\n",
    "      _, preds = torch.max(outputs.data, 1)\n",
    "      running_corrects += torch.sum(preds == labels.data).data.item()\n",
    "\n",
    "    # Calculate Accuracy\n",
    "    accuracy = running_corrects / float( len(target_dataloader)*(target_dataloader.batch_size) )\n",
    "    accuracies_validation.append(accuracy)\n",
    "    print(f\"Accuracy on validation ({transfer_set}): {accuracy}\")\n",
    "\n",
    "  # Step the scheduler\n",
    "  current_step += 1\n",
    "  scheduler.step() \n",
    "\n",
    "if SHOW_RESULTS: \n",
    "  print()\n",
    "  print(\"Loss classifier\")\n",
    "  print(loss_class_list)\n",
    "  if USE_DOMAIN_ADAPTATION : \n",
    "    print(\"\\nLoss discriminator source\")\n",
    "    print(loss_source_list)\n",
    "    print(\"\\nLoss discriminator target\")\n",
    "    print(loss_target_list)"
   ]
  },
  {
   "attachments": {},
   "cell_type": "markdown",
   "metadata": {
    "id": "UsHFI-GAJd69"
   },
   "source": [
    "**Test**"
   ]
  },
  {
   "cell_type": "code",
   "execution_count": 18,
   "metadata": {
    "id": "EO3HV5pqJg1o"
   },
   "outputs": [
    {
     "name": "stderr",
     "output_type": "stream",
     "text": [
      "100%|███████████████████████████████████████████████████████████████████| 15/15 [00:03<00:00,  4.23it/s]\n"
     ]
    },
    {
     "name": "stdout",
     "output_type": "stream",
     "text": [
      "\n",
      "Test Accuracy (ADC): 0.5255437531613556 (1039 / 1977)\n"
     ]
    }
   ],
   "source": [
    "torch.save(net, \"DANN.pth\")\n",
    "\n",
    "net = net.to(DEVICE) # this will bring the network to GPU if DEVICE is cuda\n",
    "net.train(False) # Set Network to evaluation mode\n",
    "\n",
    "running_corrects = 0\n",
    "for images, labels in tqdm(test_dataloader):\n",
    "  images = images.to(DEVICE)\n",
    "  labels = labels.to(DEVICE)\n",
    "\n",
    "  # Forward Pass\n",
    "  outputs = net(images)\n",
    "\n",
    "  # Get predictions\n",
    "  _, preds = torch.max(outputs.data, 1)\n",
    "\n",
    "  # Update Corrects\n",
    "  running_corrects += torch.sum(preds == labels.data).data.item()\n",
    "\n",
    "# Calculate Accuracy\n",
    "accuracy = running_corrects / float(len(ADC_dataset))\n",
    "\n",
    "print('\\nTest Accuracy (ADC): {} ({} / {})'.format(accuracy, running_corrects, len(ADC_dataset)))"
   ]
  },
  {
   "cell_type": "code",
   "execution_count": 19,
   "metadata": {
    "id": "oGUOxbwYpEvd"
   },
   "outputs": [
    {
     "name": "stdout",
     "output_type": "stream",
     "text": [
      "Test accuracy:  0.5255\n",
      "Val on art painting, LR = 0.001, ALPHA = 0.1, BATCH_SIZE = 128\n",
      "[]\n"
     ]
    }
   ],
   "source": [
    "#beep()\n",
    "if USE_VALIDATION : \n",
    "  print(f\"Validation on:  {transfer_set}\")\n",
    "  print(f\"accuracy_valid: {accuracies_validation[-1]:.4f}\")\n",
    "print(f\"Test accuracy:  {accuracy:.4f}\")\n",
    "print(f\"Val on {transfer_set}, LR = {LR}, ALPHA = {ALPHA}, BATCH_SIZE = {BATCH_SIZE}\")\n",
    "print(accuracies_validation)"
   ]
  },
  {
   "cell_type": "code",
   "execution_count": 20,
   "metadata": {
    "id": "jaM9WG7-UHLq",
    "scrolled": true
   },
   "outputs": [
    {
     "data": {
      "image/png": "[encoded data removed]",
      "text/plain": [
       "<Figure size 640x480 with 1 Axes>"
      ]
     },
     "metadata": {},
     "output_type": "display_data"
    }
   ],
   "source": [
    "if USE_DOMAIN_ADAPTATION :\n",
    "  # Plot losses \n",
    "  plotLosses(loss_class_list, loss_source_list, loss_target_list, n_epochs=len(loss_class_list), show=SHOW_IMG)"
   ]
  },
  {
   "cell_type": "code",
   "execution_count": null,
   "metadata": {},
   "outputs": [],
   "source": []
  }
 ],
 "metadata": {
  "accelerator": "GPU",
  "colab": {
   "provenance": []
  },
  "kernelspec": {
   "display_name": "Python 3 (ipykernel)",
   "language": "python",
   "name": "python3"
  },
  "language_info": {
   "codemirror_mode": {
    "name": "ipython",
    "version": 3
   },
   "file_extension": ".py",
   "mimetype": "text/x-python",
   "name": "python",
   "nbconvert_exporter": "python",
   "pygments_lexer": "ipython3",
   "version": "3.10.11"
  }
 },
 "nbformat": 4,
 "nbformat_minor": 1
}
